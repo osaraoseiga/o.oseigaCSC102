{
 "cells": [
  {
   "cell_type": "code",
   "execution_count": null,
   "id": "7d663c7d",
   "metadata": {
    "scrolled": true
   },
   "outputs": [
    {
     "name": "stdout",
     "output_type": "stream",
     "text": [
      "Welcome to this organization\n",
      "What is your years of experience?5\n",
      "What is your age?5\n",
      "invalid input\n",
      "Would you like to continue?\n"
     ]
    }
   ],
   "source": [
    "print(\"Welcome to this organization\") \n",
    "employees()\n",
    "\n",
    "def employees():\n",
    "    Year = int(input(\"What is your years of experience?\"))\n",
    "    Age = int(input(\"What is your age?\"))\n",
    "if Year > 25 and Age >= 55:\n",
    "    print(\"The annual tax revenue (ATR) of staff = N5600000\")\n",
    "elif Year > 20 and Age >= 45:\n",
    "    print(\"The annual tax revenue (ATR) of staff = N4800000\")\n",
    "elif Year > 10 and Age >= 35:\n",
    "    print(\"The annual tax revenue (ATR) of staff = N1500000\")\n",
    "elif Year < 10 and Age < 35:\n",
    "    print(\"The annual tax revenue (ATR) of staff = N550000\")\n",
    "else:\n",
    "        print(\"invalid input\")\n",
    "        \n",
    "        print(\"Would you like to continue?\")\n",
    "        decision = input(\"If yes click 1 and if no click 2\")\n",
    "        if decision == 1:\n",
    "            employees()\n",
    "        elif decision == 2:\n",
    "            print(\"That will be all\")\n",
    "            \n",
    "            \n",
    "\n",
    "            \n",
    "        "
   ]
  },
  {
   "cell_type": "code",
   "execution_count": null,
   "id": "0ca42f5c",
   "metadata": {},
   "outputs": [],
   "source": []
  },
  {
   "cell_type": "code",
   "execution_count": null,
   "id": "7a7870bb",
   "metadata": {},
   "outputs": [],
   "source": []
  }
 ],
 "metadata": {
  "kernelspec": {
   "display_name": "Python 3 (ipykernel)",
   "language": "python",
   "name": "python3"
  },
  "language_info": {
   "codemirror_mode": {
    "name": "ipython",
    "version": 3
   },
   "file_extension": ".py",
   "mimetype": "text/x-python",
   "name": "python",
   "nbconvert_exporter": "python",
   "pygments_lexer": "ipython3",
   "version": "3.10.9"
  }
 },
 "nbformat": 4,
 "nbformat_minor": 5
}
