{
 "cells": [
  {
   "cell_type": "code",
   "execution_count": 2,
   "id": "71fb3d86",
   "metadata": {},
   "outputs": [
    {
     "name": "stdout",
     "output_type": "stream",
     "text": [
      "What is your principal?100\n",
      "What is your rate?50\n",
      "What is your time?5\n",
      "The simple interest is 350.0\n"
     ]
    }
   ],
   "source": [
    "p = int(input(\"What is your principal?\"))\n",
    "r = int(input(\"What is your rate?\"))\n",
    "t = int(input(\"What is your time?\"))\n",
    "\n",
    "A = p * (1 + (r/100) * t)\n",
    "print(\"The simple interest is\", A)"
   ]
  },
  {
   "cell_type": "code",
   "execution_count": 4,
   "id": "26d51d0f",
   "metadata": {},
   "outputs": [
    {
     "name": "stdout",
     "output_type": "stream",
     "text": [
      "What is your principal?100\n",
      "What is your rate?5\n",
      "What is your time?2\n",
      "What is the number of years?3\n",
      "The simple interest is 1025.925925925926\n"
     ]
    }
   ],
   "source": [
    "p = int(input(\"What is your principal?\"))\n",
    "r = int(input(\"What is your rate?\"))\n",
    "t = int(input(\"What is your time?\"))\n",
    "n = int(input(\"What is the number of years?\"))\n",
    "\n",
    "A = p * (1 + (r/n) ** n * t)\n",
    "print(\"The simple interest is\", A)"
   ]
  },
  {
   "cell_type": "code",
   "execution_count": null,
   "id": "1fea879a",
   "metadata": {},
   "outputs": [],
   "source": []
  }
 ],
 "metadata": {
  "kernelspec": {
   "display_name": "Python 3 (ipykernel)",
   "language": "python",
   "name": "python3"
  },
  "language_info": {
   "codemirror_mode": {
    "name": "ipython",
    "version": 3
   },
   "file_extension": ".py",
   "mimetype": "text/x-python",
   "name": "python",
   "nbconvert_exporter": "python",
   "pygments_lexer": "ipython3",
   "version": "3.10.9"
  }
 },
 "nbformat": 4,
 "nbformat_minor": 5
}
